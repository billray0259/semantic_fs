{
 "cells": [
  {
   "cell_type": "code",
   "execution_count": 27,
   "metadata": {},
   "outputs": [],
   "source": [
    "import json\n",
    "import os\n",
    "import numpy as np\n",
    "\n",
    "from lib.encoders import QueryPipeline, ExtractiveQAPipeline\n",
    "from lib.util import ndarray_from_json"
   ]
  },
  {
   "cell_type": "code",
   "execution_count": 28,
   "metadata": {},
   "outputs": [],
   "source": [
    "try:\n",
    "    del embeddings_dict\n",
    "except NameError:\n",
    "    pass"
   ]
  },
  {
   "cell_type": "code",
   "execution_count": 29,
   "metadata": {},
   "outputs": [],
   "source": [
    "# data_dir = \"toxic_comments/comments\"\n",
    "data_dir = \"data_directory\"\n",
    "query = \"What do dolphins eat?\"\n"
   ]
  },
  {
   "cell_type": "code",
   "execution_count": 30,
   "metadata": {},
   "outputs": [
    {
     "name": "stdout",
     "output_type": "stream",
     "text": [
      "data_directory/texts/dolphins.txt - 22.690467834472656\n",
      "\tAnswer: fish and squid\n",
      "\tContext: to capture fast - moving prey. they have well - developed hearing which is adapted for both air and water. it is so well developed that some can survive even if they are blind. some species are well adapted for diving to great depths. they have a layer of fat, or blubber, under the skin to keep warm in the cold water. dolphins are widespread. most species prefer the warm waters of the tropic zones, but some, such as the right whale dolphin, prefer colder climates. dolphins feed largely on fish and squid, but a few, such as the orca, feed on large mammals such as seals. male\n",
      "\n",
      "data_directory/texts/dolphins.txt - 21.583898544311523\n",
      "\tAnswer: fish and squid\n",
      "\tContext: warm in the cold water. dolphins are widespread. most species prefer the warm waters of the tropic zones, but some, such as the right whale dolphin, prefer colder climates. dolphins feed largely on fish and squid, but a few, such as the orca, feed on large mammals such as seals. male dolphins typically mate with multiple females every year, but females only mate every two to three years. calves are typically born in the spring and summer months and females bear all the responsibility for raising them. mothers of some species fast and nurse their young for a relatively long period of time. dolphins produce a variety of vocalizations,\n",
      "\n",
      "data_directory/texts/dolphins.txt - 20.811527252197266\n",
      "\tAnswer: dolphin meat\n",
      "\tContext: faroe islands, dolphins are traditionally considered food and are killed in harpoon or drive hunts. [ 154 ] dolphin meat is high in mercury and may thus pose a health danger to humans when consumed. [ 155 ] queensland's shark culling program, which has killed roughly 50, 000 sharks since 1962, has also killed thousands of dolphins as bycatch. [ 156 ] [ 157 ] \" shark control \" programs in both queensland and new south wales use shark nets and drum lines, which entangle and kill dolphins. [ 158 ] queensland's \" shark control \" program has killed more than 1, 000 dolphins in recent years,\n",
      "\n",
      "data_directory/texts/dolphins.txt - 20.80457305908203\n",
      "\tAnswer: meat\n",
      "\tContext: beach. their escape is prevented by closing off the route to the ocean with other boats or nets. dolphins are hunted this way in several places around the world, including the solomon islands, the faroe islands, peru, and japan, the most well - known practitioner of this method. by numbers, dolphins are mostly hunted for their meat, though some end up in dolphinariums. despite the controversial nature of the hunt resulting in international criticism, and the possible health risk that the often polluted meat causes, thousands of dolphins are caught in drive hunts each year. relationships with humans in history and religion fresco of dolphins, c. 1600 bc\n",
      "\n",
      "data_directory/texts/dolphins.txt - 20.60478973388672\n",
      "\tAnswer: dolphin meat\n",
      "\tContext: considered as food, and are killed in harpoon or drive hunts. [ 154 ] dolphin meat is consumed in a small number of countries worldwide, which include japan [ 202 ] and peru ( where it is referred to as chancho marino, or \" sea pork \" ). [ 203 ] while japan may be the best - known and most controversial example, only a very small minority of the population has ever sampled it. dolphin meat is dense and such a dark shade of red as to appear black. fat is located in a layer of blubber between the meat and the skin. when dolphin meat is eaten in japan, it is often cut\n",
      "\n",
      "data_directory/texts/dolphins.txt - 20.47026824951172\n",
      "\tAnswer: fish and squid\n",
      "\tContext: [ 100 ] though a similar state has been observed with wild sperm whales, it is not known if dolphins in the wild reach this state. [ 101 ] the indus river dolphin has a sleep method that is different from that of other dolphin species. living in water with strong currents and potentially dangerous floating debris, it must swim continuously to avoid injury. as a result, this species sleeps in very short bursts which last between 4 and 60 seconds. [ 102 ] feeding there are various feeding methods among and within species, some apparently exclusive to a single population. fish and squid are the main food, but the false killer whale and the orca also\n",
      "\n",
      "data_directory/texts/dolphins.txt - 20.32433319091797\n",
      "\tAnswer: dolphin meat\n",
      "\tContext: ##ionally kill many dolphins. [ 151 ] accidental by - catch in gill nets and incidental captures in antipredator nets that protect marine fish farms are common and pose a risk for mainly local dolphin populations. [ 152 ] [ 153 ] in some parts of the world, such as taiji in japan and the faroe islands, dolphins are traditionally considered food and are killed in harpoon or drive hunts. [ 154 ] dolphin meat is high in mercury and may thus pose a health danger to humans when consumed. [ 155 ] queensland's shark culling program, which has killed roughly 50, 000 sharks since 1962, has also\n",
      "\n",
      "data_directory/texts/dolphins.txt - 20.162324905395508\n",
      "\tAnswer: fish and squid\n",
      "\tContext: continuously to avoid injury. as a result, this species sleeps in very short bursts which last between 4 and 60 seconds. [ 102 ] feeding there are various feeding methods among and within species, some apparently exclusive to a single population. fish and squid are the main food, but the false killer whale and the orca also feed on other marine mammals. orcas on occasion also hunt whale species larger than themselves. [ 103 ] different breeds of dolphins vary widely in the number of teeth they possess. the orca usually carries 40 – 56 teeth while the popular bottlenose dolphin has anywhere from 72 to 116 conical teeth and its smaller cousin the\n",
      "\n",
      "data_directory/texts/dolphins.txt - 20.075817108154297\n",
      "\tAnswer: fast - moving prey\n",
      "\tContext: males are larger than females. they have streamlined bodies and two limbs that are modified into flippers. though not quite as flexible as seals, some dolphins can briefly travel at speeds of 29 kilometres ( 18 mi ) per hour or leap about 30 feet ( 9. 1 m ). [ 1 ] dolphins use their conical teeth to capture fast - moving prey. they have well - developed hearing which is adapted for both air and water. it is so well developed that some can survive even if they are blind. some species are well adapted for diving to great depths. they have a layer of fat, or blubber, under the skin to keep\n",
      "\n",
      "data_directory/texts/dolphins.txt - 20.04528045654297\n",
      "\tAnswer: dolphin meat\n",
      "\tContext: important methodological flaws and have concluded that there is no compelling scientific evidence that dat is a legitimate therapy or that it affords more than fleeting mood improvement. [ 201 ] consumption cuisine plate of dolphin sashimi. in some parts of the world, such as taiji, japan and the faroe islands, dolphins are traditionally considered as food, and are killed in harpoon or drive hunts. [ 154 ] dolphin meat is consumed in a small number of countries worldwide, which include japan [ 202 ] and peru ( where it is referred to as chancho marino, or \" sea pork \" ). [ 203 ] while japan may be the best\n",
      "\n"
     ]
    }
   ],
   "source": [
    "query_pipeline = QueryPipeline()\n",
    "qa_pipeline = ExtractiveQAPipeline()\n",
    "\n",
    "try:\n",
    "    embeddings_dict\n",
    "except NameError: \n",
    "    with open(os.path.join(data_dir, \"embeddings.json\"), 'r') as f:\n",
    "        embeddings_dict = json.load(f)\n",
    "\n",
    "\n",
    "results = query_pipeline.query_embeddings_dict(query, embeddings_dict)\n",
    "\n",
    "for result in results:\n",
    "\n",
    "    context = result[2]\n",
    "    answer = qa_pipeline(query, context)\n",
    "\n",
    "    print(f\"{result[1]} - {result[3]}\")\n",
    "    print(f\"\\tAnswer: {answer['answer']}\")\n",
    "    print(f\"\\tContext: {context}\")\n",
    "    print()"
   ]
  }
 ],
 "metadata": {
  "kernelspec": {
   "display_name": "Python 3.10.4 ('env': venv)",
   "language": "python",
   "name": "python3"
  },
  "language_info": {
   "codemirror_mode": {
    "name": "ipython",
    "version": 3
   },
   "file_extension": ".py",
   "mimetype": "text/x-python",
   "name": "python",
   "nbconvert_exporter": "python",
   "pygments_lexer": "ipython3",
   "version": "3.10.4"
  },
  "orig_nbformat": 4,
  "vscode": {
   "interpreter": {
    "hash": "bd949634739cb2e3553531dc888c165434c8f42131e286f52dc6a7c1de32f5f6"
   }
  }
 },
 "nbformat": 4,
 "nbformat_minor": 2
}
