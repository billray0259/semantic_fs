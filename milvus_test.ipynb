{
 "cells": [
  {
   "cell_type": "code",
   "execution_count": 13,
   "metadata": {},
   "outputs": [],
   "source": [
    "from pymilvus import (\n",
    "    connections,\n",
    "    utility,\n",
    "    FieldSchema,\n",
    "    CollectionSchema,\n",
    "    DataType,\n",
    "    Collection,\n",
    ")\n",
    "COLLECTION_NAME = \"batch_123\""
   ]
  },
  {
   "cell_type": "code",
   "execution_count": 14,
   "metadata": {},
   "outputs": [],
   "source": [
    "# docker-compose up -d to run Milvus service\n",
    "# docker-compose down to stop Milvus service\n",
    "# docker-compose ps to check Milvus service status\n",
    "connections.connect(host=\"localhost\", port=\"19530\")"
   ]
  },
  {
   "cell_type": "code",
   "execution_count": 15,
   "metadata": {},
   "outputs": [],
   "source": [
    "# Make data collection\n",
    "fields = [\n",
    "    FieldSchema(name=\"pk\", dtype=DataType.INT64, is_primary=True, auto_id=False),\n",
    "    FieldSchema(name=\"embeddings\", dtype=DataType.FLOAT_VECTOR, dim=768),\n",
    "    FieldSchema(name=\"filepath\", dtype=DataType.VARCHAR, max_length=200),\n",
    "    FieldSchema(name=\"text\", dtype=DataType.VARCHAR, max_length=512)\n",
    "]\n",
    "schema = CollectionSchema(fields, \"a basic schema for a batch of embeddings\")\n",
    "batch_123 = Collection(COLLECTION_NAME, schema)"
   ]
  },
  {
   "cell_type": "code",
   "execution_count": 16,
   "metadata": {},
   "outputs": [],
   "source": [
    "# make dummy data\n",
    "import random\n",
    "entities = [\n",
    "    [i for i in range(3000)],  # field pk\n",
    "    [[random.random() for _ in range(768)] for _ in range(3000)],  # field embeddings\n",
    "    [f\"filepath_{i}\" for i in range(3000)],  # field filepath\n",
    "    [f\"text_{i}\" for i in range(3000)],  # field text\n",
    "]\n",
    "insert_result = batch_123.insert(entities)"
   ]
  },
  {
   "cell_type": "code",
   "execution_count": 17,
   "metadata": {},
   "outputs": [
    {
     "data": {
      "text/plain": [
       "Status(code=0, message='')"
      ]
     },
     "execution_count": 17,
     "metadata": {},
     "output_type": "execute_result"
    }
   ],
   "source": [
    "# build index\n",
    "index = {\n",
    "    \"index_type\": \"IVF_FLAT\",\n",
    "    \"metric_type\": \"L2\",\n",
    "    \"params\": {\"nlist\": 128},\n",
    "}\n",
    "batch_123.create_index(\"embeddings\", index)"
   ]
  },
  {
   "cell_type": "code",
   "execution_count": 18,
   "metadata": {},
   "outputs": [
    {
     "name": "stdout",
     "output_type": "stream",
     "text": [
      "768\n",
      "[\"['(distance: 111.05941772460938, id: 823)', '(distance: 111.55264282226562, id: 1248)', '(distance: 112.07041931152344, id: 673)']\"]\n"
     ]
    }
   ],
   "source": [
    "batch_123.load()\n",
    "vectors_to_search = entities[1][:1]\n",
    "print(len(vectors_to_search[0]))\n",
    "search_params = {\n",
    "    \"metric_type\": \"L2\",\n",
    "    \"params\": {\"nprobe\": 10},\n",
    "}\n",
    "result = batch_123.search(vectors_to_search, \"embeddings\", search_params, limit=3, output_fields=[\"text\"])\n",
    "print(result)"
   ]
  }
 ],
 "metadata": {
  "kernelspec": {
   "display_name": "Python 3.10.4 ('SemanticFS')",
   "language": "python",
   "name": "python3"
  },
  "language_info": {
   "codemirror_mode": {
    "name": "ipython",
    "version": 3
   },
   "file_extension": ".py",
   "mimetype": "text/x-python",
   "name": "python",
   "nbconvert_exporter": "python",
   "pygments_lexer": "ipython3",
   "version": "3.10.4"
  },
  "orig_nbformat": 4,
  "vscode": {
   "interpreter": {
    "hash": "65869154287901e82645b0f658baa7d54ab02cda62bd23acccc2b7db005e4d1e"
   }
  }
 },
 "nbformat": 4,
 "nbformat_minor": 2
}
