{
 "cells": [
  {
   "cell_type": "code",
   "execution_count": 1,
   "metadata": {},
   "outputs": [],
   "source": [
    "from pymilvus import connections"
   ]
  },
  {
   "cell_type": "code",
   "execution_count": 2,
   "metadata": {},
   "outputs": [],
   "source": [
    "connections.connect(\n",
    "  alias=\"default\", \n",
    "  host='localhost', \n",
    "  port='19530'\n",
    ")"
   ]
  },
  {
   "cell_type": "code",
   "execution_count": null,
   "metadata": {},
   "outputs": [],
   "source": [
    "from pymilvus import CollectionSchema, FieldSchema, DataType\n",
    "\n",
    "document_id = FieldSchema(\n",
    "  name=\"book_id\", \n",
    "  dtype=DataType.INT64, \n",
    "  is_primary=True, \n",
    ")\n",
    "\n",
    "book_name = FieldSchema(\n",
    "  name=\"book_name\", \n",
    "  dtype=DataType.VARCHAR, \n",
    "  max_length=200,\n",
    ")\n",
    "\n",
    "word_count = FieldSchema(\n",
    "  name=\"word_count\", \n",
    "  dtype=DataType.INT64,  \n",
    ")\n",
    "\n",
    "book_intro = FieldSchema(\n",
    "  name=\"book_intro\", \n",
    "  dtype=DataType.FLOAT_VECTOR, \n",
    "  dim=2\n",
    ")\n",
    "schema = CollectionSchema(\n",
    "  fields=[book_id, book_name, word_count, book_intro], \n",
    "  description=\"Test book search\"\n",
    ")\n",
    "collection_name = \"book\"\n"
   ]
  },
  {
   "cell_type": "code",
   "execution_count": 3,
   "metadata": {},
   "outputs": [],
   "source": [
    "connections.disconnect(\"default\")"
   ]
  }
 ],
 "metadata": {
  "kernelspec": {
   "display_name": "Python 3.10.4 ('env': venv)",
   "language": "python",
   "name": "python3"
  },
  "language_info": {
   "codemirror_mode": {
    "name": "ipython",
    "version": 3
   },
   "file_extension": ".py",
   "mimetype": "text/x-python",
   "name": "python",
   "nbconvert_exporter": "python",
   "pygments_lexer": "ipython3",
   "version": "3.10.4"
  },
  "orig_nbformat": 4,
  "vscode": {
   "interpreter": {
    "hash": "bd949634739cb2e3553531dc888c165434c8f42131e286f52dc6a7c1de32f5f6"
   }
  }
 },
 "nbformat": 4,
 "nbformat_minor": 2
}
