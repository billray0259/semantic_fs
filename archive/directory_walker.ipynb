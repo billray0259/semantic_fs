{
 "cells": [
  {
   "cell_type": "code",
   "execution_count": 6,
   "metadata": {},
   "outputs": [],
   "source": [
    "import base64\n",
    "import os\n",
    "import json\n",
    "\n",
    "import numpy as np\n",
    "import base64\n",
    "import uuid\n",
    "\n",
    "from lib.encoders import TextEncoderPipeline, QueryPipeline\n",
    "from lib.file_readers import iter_texts\n",
    "from lib.util import ndarray_to_json, ndarray_from_json"
   ]
  },
  {
   "cell_type": "code",
   "execution_count": 11,
   "metadata": {},
   "outputs": [],
   "source": [
    "# data_dir = \"toxic_comments/comments\"\n",
    "data_dir = \"data_directory\"\n",
    "\n",
    "encoder_pipeline = TextEncoderPipeline(chunk_size=128)\n",
    "\n",
    "def get_embeddings_dict(data_dir):\n",
    "    embeddings_dict = {}\n",
    "\n",
    "    for file, text in iter_texts(data_dir):\n",
    "        text_chunks, embeddings = encoder_pipeline(text)\n",
    "        file_name_chunks, file_name_embeddings = encoder_pipeline(file)\n",
    "\n",
    "        text_chunks.extend(file_name_chunks)\n",
    "        embeddings = np.concatenate([embeddings, file_name_embeddings], axis=0)\n",
    "\n",
    "        for chunk, embedding in zip(text_chunks, embeddings):\n",
    "            # hash the text to make a key\n",
    "            key = str(uuid.uuid3(uuid.NAMESPACE_DNS, chunk))\n",
    "            embeddings_dict[key] = {}\n",
    "            embeddings_dict[key][\"filename\"] = file\n",
    "            embeddings_dict[key][\"text\"] = chunk\n",
    "            embeddings_dict[key][\"embedding\"] = ndarray_to_json(embedding)\n",
    "\n",
    "    return embeddings_dict\n",
    "\n"
   ]
  },
  {
   "cell_type": "code",
   "execution_count": 12,
   "metadata": {},
   "outputs": [
    {
     "name": "stderr",
     "output_type": "stream",
     "text": [
      "Token indices sequence length is longer than the specified maximum sequence length for this model (66268 > 512). Running this sequence through the model will result in indexing errors\n"
     ]
    },
    {
     "name": "stdout",
     "output_type": "stream",
     "text": [
      "Error reading file data_directory/pdfs/02_CS687.pdf: EOF marker not found\n",
      "Error reading file data_directory/pdfs/01_CS687.pdf: EOF marker not found\n",
      "Error reading file data_directory/pdfs/03_CS687.pdf: EOF marker not found\n",
      "Error reading file data_directory/pdfs/04_CS687.pdf: EOF marker not found\n"
     ]
    }
   ],
   "source": [
    "with open(os.path.join(data_dir, \"embeddings.json\"), 'w') as f:\n",
    "    json.dump(get_embeddings_dict(data_dir), f, indent=4)"
   ]
  }
 ],
 "metadata": {
  "kernelspec": {
   "display_name": "Python 3.10.4 ('env': venv)",
   "language": "python",
   "name": "python3"
  },
  "language_info": {
   "codemirror_mode": {
    "name": "ipython",
    "version": 3
   },
   "file_extension": ".py",
   "mimetype": "text/x-python",
   "name": "python",
   "nbconvert_exporter": "python",
   "pygments_lexer": "ipython3",
   "version": "3.10.4"
  },
  "orig_nbformat": 4,
  "vscode": {
   "interpreter": {
    "hash": "bd949634739cb2e3553531dc888c165434c8f42131e286f52dc6a7c1de32f5f6"
   }
  }
 },
 "nbformat": 4,
 "nbformat_minor": 2
}
