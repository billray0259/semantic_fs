{
 "cells": [
  {
   "cell_type": "code",
   "execution_count": 1,
   "metadata": {},
   "outputs": [],
   "source": [
    "import json\n",
    "import os\n",
    "import numpy as np\n",
    "\n",
    "from lib.encoders import QueryPipeline, ExtractiveQAPipeline\n",
    "from lib.util import ndarray_from_json"
   ]
  },
  {
   "cell_type": "code",
   "execution_count": 20,
   "metadata": {},
   "outputs": [],
   "source": [
    "try:\n",
    "    del embeddings_dict\n",
    "except NameError:\n",
    "    pass"
   ]
  },
  {
   "cell_type": "code",
   "execution_count": 21,
   "metadata": {},
   "outputs": [],
   "source": [
    "# data_dir = \"toxic_comments/comments\"\n",
    "data_dir = \"data_directory\"\n",
    "query = \"data_directory/pdfs/Lecture_Notes_v1.0_687_F22.pdf\"\n"
   ]
  },
  {
   "cell_type": "code",
   "execution_count": 22,
   "metadata": {},
   "outputs": [
    {
     "name": "stdout",
     "output_type": "stream",
     "text": [
      "data_directory/pdfs/Lecture_Notes_v1.0_687_F22.pdf - 35.19545364379883\n",
      "\tAnswer: lecture _ notes _ v1. 0 _ 687\n",
      "\tContext: data _ directory / pdfs / lecture _ notes _ v1. 0 _ 687 _ f22. pdf\n",
      "\n",
      "data_directory/pdfs/F22_687_Syllabus_v2.pdf - 31.151283264160156\n",
      "\tAnswer: syllabus _ v2. pdf\n",
      "\tContext: data _ directory / pdfs / f22 _ 687 _ syllabus _ v2. pdf\n",
      "\n",
      "data_directory/pdfs/1A - introduction.pdf - 29.56856918334961\n",
      "\tAnswer: introduction. pdf\n",
      "\tContext: data _ directory / pdfs / 1a - introduction. pdf\n",
      "\n",
      "data_directory/pdfs/2 - unity.pdf - 26.093429565429688\n",
      "\tAnswer: unity\n",
      "\tContext: data _ directory / pdfs / 2 - unity. pdf\n",
      "\n",
      "data_directory/pdfs/2A - Game Loop.pdf - 25.99228286743164\n",
      "\tAnswer: data _ directory / pdfs / 2a - game loop. pdf\n",
      "\tContext: data _ directory / pdfs / 2a - game loop. pdf\n",
      "\n",
      "data_directory/texts/Scientists_are_using_AI_to_dream_up_revolutionary_new_proteins.txt - 22.700679779052734\n",
      "\tAnswer: texts\n",
      "\tContext: data _ directory / texts / scientists _ are _ using _ ai _ to _ dream _ up _ revolutionary _ new _ proteins. txt\n",
      "\n",
      "data_directory/texts/Quanta_Magazine.txt - 22.583797454833984\n",
      "\tAnswer: texts\n",
      "\tContext: data _ directory / texts / quanta _ magazine. txt\n",
      "\n",
      "data_directory/texts/King_Charles_III_authorized_Prince_Harry_to_wear_military_uniform.txt - 22.570175170898438\n",
      "\tAnswer: texts\n",
      "\tContext: data _ directory / texts / king _ charles _ iii _ authorized _ prince _ harry _ to _ wear _ military _ uniform. txt\n",
      "\n",
      "data_directory/texts/Ukrainian_president:_Burial_site_contains_torture_victims_-_ABC_News.txt - 22.481159210205078\n",
      "\tAnswer: texts\n",
      "\tContext: data _ directory / texts / ukrainian _ president : _ burial _ site _ contains _ torture _ victims _ - _ abc _ news. txt\n",
      "\n",
      "data_directory/texts/‘Magic_Mike’s_Last_Dance’_Skipping_HBO_Max,_Going_Theatrical_–_Deadline.txt - 21.83445930480957\n",
      "\tAnswer: texts\n",
      "\tContext: data _ directory / texts / ‘ magic _ mike ’ s _ last _ dance ’ _ skipping _ hbo _ max, _ going _ theatrical _ – _ deadline. txt\n",
      "\n"
     ]
    }
   ],
   "source": [
    "query_pipeline = QueryPipeline()\n",
    "qa_pipeline = ExtractiveQAPipeline()\n",
    "\n",
    "try:\n",
    "    embeddings_dict\n",
    "except NameError: \n",
    "    with open(os.path.join(data_dir, \"embeddings.json\"), 'r') as f:\n",
    "        embeddings_dict = json.load(f)\n",
    "\n",
    "\n",
    "results = query_pipeline.query_embeddings_dict(query, embeddings_dict)\n",
    "\n",
    "for result in results:\n",
    "\n",
    "    context = result[2]\n",
    "    answer = qa_pipeline(query, context)\n",
    "\n",
    "    print(f\"{result[1]} - {result[3]}\")\n",
    "    print(f\"\\tAnswer: {answer['answer']}\")\n",
    "    print(f\"\\tContext: {context}\")\n",
    "    print()"
   ]
  }
 ],
 "metadata": {
  "kernelspec": {
   "display_name": "Python 3.10.4 ('env': venv)",
   "language": "python",
   "name": "python3"
  },
  "language_info": {
   "codemirror_mode": {
    "name": "ipython",
    "version": 3
   },
   "file_extension": ".py",
   "mimetype": "text/x-python",
   "name": "python",
   "nbconvert_exporter": "python",
   "pygments_lexer": "ipython3",
   "version": "3.10.4"
  },
  "orig_nbformat": 4,
  "vscode": {
   "interpreter": {
    "hash": "bd949634739cb2e3553531dc888c165434c8f42131e286f52dc6a7c1de32f5f6"
   }
  }
 },
 "nbformat": 4,
 "nbformat_minor": 2
}
