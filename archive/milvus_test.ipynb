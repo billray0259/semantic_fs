{
 "cells": [
  {
   "cell_type": "code",
   "execution_count": 1,
   "metadata": {},
   "outputs": [],
   "source": [
    "from pymilvus import (\n",
    "    connections,\n",
    "    utility,\n",
    "    FieldSchema,\n",
    "    CollectionSchema,\n",
    "    DataType,\n",
    "    Collection,\n",
    ")\n",
    "COLLECTION_NAME = \"batch_123\""
   ]
  },
  {
   "cell_type": "code",
   "execution_count": 2,
   "metadata": {},
   "outputs": [],
   "source": [
    "# docker-compose up -d to run Milvus service\n",
    "# docker-compose down to stop Milvus service\n",
    "# docker-compose ps to check Milvus service status\n",
    "connections.connect(host=\"localhost\", port=\"19530\")"
   ]
  },
  {
   "cell_type": "code",
   "execution_count": 3,
   "metadata": {},
   "outputs": [],
   "source": [
    "# Make data collection\n",
    "fields = [\n",
    "    FieldSchema(name=\"pk\", dtype=DataType.INT64, is_primary=True, auto_id=False),\n",
    "    FieldSchema(name=\"embeddings\", dtype=DataType.FLOAT_VECTOR, dim=768),\n",
    "    FieldSchema(name=\"filepath\", dtype=DataType.VARCHAR, max_length=200),\n",
    "    FieldSchema(name=\"text\", dtype=DataType.VARCHAR, max_length=512)\n",
    "]\n",
    "schema = CollectionSchema(fields, \"a basic schema for a batch of embeddings\")\n",
    "batch_123 = Collection(COLLECTION_NAME, schema)"
   ]
  },
  {
   "cell_type": "code",
   "execution_count": 4,
   "metadata": {},
   "outputs": [],
   "source": [
    "# make dummy data\n",
    "import random\n",
    "entities = [\n",
    "    [i for i in range(3000)],  # field pk\n",
    "    [[random.random() for _ in range(768)] for _ in range(3000)],  # field embeddings\n",
    "    [f\"filepath_{i}\" for i in range(3000)],  # field filepath\n",
    "    [f\"text_{i}\" for i in range(3000)],  # field text\n",
    "]\n",
    "insert_result = batch_123.insert(entities)\n",
    "\n",
    "# entities = {\n",
    "#     \"pk\": [i for i in range(3000)],\n",
    "#     \"embeddings\": [[random.random() for _ in range(768)] for _ in range(3000)],\n",
    "#     \"filepath\": [f\"filepath_{i}\" for i in range(3000)],\n",
    "#     \"text\": [f\"text_{i}\" for i in range(3000)],\n",
    "# }"
   ]
  },
  {
   "cell_type": "code",
   "execution_count": 5,
   "metadata": {},
   "outputs": [
    {
     "data": {
      "text/plain": [
       "Status(code=0, message='')"
      ]
     },
     "execution_count": 5,
     "metadata": {},
     "output_type": "execute_result"
    }
   ],
   "source": [
    "# build index\n",
    "index = {\n",
    "    \"index_type\": \"IVF_FLAT\",\n",
    "    \"metric_type\": \"L2\",\n",
    "    \"params\": {\"nlist\": 128},\n",
    "}\n",
    "batch_123.create_index(\"embeddings\", index)"
   ]
  },
  {
   "cell_type": "code",
   "execution_count": 7,
   "metadata": {},
   "outputs": [
    {
     "name": "stdout",
     "output_type": "stream",
     "text": [
      "768\n"
     ]
    },
    {
     "ename": "AttributeError",
     "evalue": "'Collection' object has no attribute 'get_entity_by_id'",
     "output_type": "error",
     "traceback": [
      "\u001b[0;31m---------------------------------------------------------------------------\u001b[0m",
      "\u001b[0;31mAttributeError\u001b[0m                            Traceback (most recent call last)",
      "\u001b[1;32m/home/bill/fall2022/596/semantic_fs/milvus_test.ipynb Cell 6\u001b[0m in \u001b[0;36m<cell line: 9>\u001b[0;34m()\u001b[0m\n\u001b[1;32m      <a href='vscode-notebook-cell://ssh-remote%2Bobiwan/home/bill/fall2022/596/semantic_fs/milvus_test.ipynb#W5sdnNjb2RlLXJlbW90ZQ%3D%3D?line=3'>4</a>\u001b[0m search_params \u001b[39m=\u001b[39m {\n\u001b[1;32m      <a href='vscode-notebook-cell://ssh-remote%2Bobiwan/home/bill/fall2022/596/semantic_fs/milvus_test.ipynb#W5sdnNjb2RlLXJlbW90ZQ%3D%3D?line=4'>5</a>\u001b[0m     \u001b[39m\"\u001b[39m\u001b[39mmetric_type\u001b[39m\u001b[39m\"\u001b[39m: \u001b[39m\"\u001b[39m\u001b[39mL2\u001b[39m\u001b[39m\"\u001b[39m,\n\u001b[1;32m      <a href='vscode-notebook-cell://ssh-remote%2Bobiwan/home/bill/fall2022/596/semantic_fs/milvus_test.ipynb#W5sdnNjb2RlLXJlbW90ZQ%3D%3D?line=5'>6</a>\u001b[0m     \u001b[39m\"\u001b[39m\u001b[39mparams\u001b[39m\u001b[39m\"\u001b[39m: {\u001b[39m\"\u001b[39m\u001b[39mnprobe\u001b[39m\u001b[39m\"\u001b[39m: \u001b[39m10\u001b[39m},\n\u001b[1;32m      <a href='vscode-notebook-cell://ssh-remote%2Bobiwan/home/bill/fall2022/596/semantic_fs/milvus_test.ipynb#W5sdnNjb2RlLXJlbW90ZQ%3D%3D?line=6'>7</a>\u001b[0m }\n\u001b[1;32m      <a href='vscode-notebook-cell://ssh-remote%2Bobiwan/home/bill/fall2022/596/semantic_fs/milvus_test.ipynb#W5sdnNjb2RlLXJlbW90ZQ%3D%3D?line=7'>8</a>\u001b[0m result \u001b[39m=\u001b[39m batch_123\u001b[39m.\u001b[39msearch(vectors_to_search, \u001b[39m\"\u001b[39m\u001b[39membeddings\u001b[39m\u001b[39m\"\u001b[39m, search_params, limit\u001b[39m=\u001b[39m\u001b[39m3\u001b[39m, output_fields\u001b[39m=\u001b[39m[\u001b[39m\"\u001b[39m\u001b[39mtext\u001b[39m\u001b[39m\"\u001b[39m])\n\u001b[0;32m----> <a href='vscode-notebook-cell://ssh-remote%2Bobiwan/home/bill/fall2022/596/semantic_fs/milvus_test.ipynb#W5sdnNjb2RlLXJlbW90ZQ%3D%3D?line=8'>9</a>\u001b[0m data \u001b[39m=\u001b[39m batch_123\u001b[39m.\u001b[39;49mget_entity_by_id([result[\u001b[39m0\u001b[39m][\u001b[39m0\u001b[39m]\u001b[39m.\u001b[39mid])\n\u001b[1;32m     <a href='vscode-notebook-cell://ssh-remote%2Bobiwan/home/bill/fall2022/596/semantic_fs/milvus_test.ipynb#W5sdnNjb2RlLXJlbW90ZQ%3D%3D?line=9'>10</a>\u001b[0m \u001b[39mprint\u001b[39m(result)\n",
      "\u001b[0;31mAttributeError\u001b[0m: 'Collection' object has no attribute 'get_entity_by_id'"
     ]
    }
   ],
   "source": [
    "batch_123.load()\n",
    "vectors_to_search = entities[1][:1]\n",
    "print(len(vectors_to_search[0]))\n",
    "search_params = {\n",
    "    \"metric_type\": \"L2\",\n",
    "    \"params\": {\"nprobe\": 10},\n",
    "}\n",
    "result = batch_123.search(vectors_to_search, \"embeddings\", search_params, limit=3, output_fields=[\"text\"])\n",
    "data = batch_123\n",
    "print(result)"
   ]
  },
  {
   "cell_type": "code",
   "execution_count": null,
   "metadata": {},
   "outputs": [],
   "source": []
  }
 ],
 "metadata": {
  "kernelspec": {
   "display_name": "Python 3.10.4 ('env': venv)",
   "language": "python",
   "name": "python3"
  },
  "language_info": {
   "codemirror_mode": {
    "name": "ipython",
    "version": 3
   },
   "file_extension": ".py",
   "mimetype": "text/x-python",
   "name": "python",
   "nbconvert_exporter": "python",
   "pygments_lexer": "ipython3",
   "version": "3.10.4"
  },
  "orig_nbformat": 4,
  "vscode": {
   "interpreter": {
    "hash": "bd949634739cb2e3553531dc888c165434c8f42131e286f52dc6a7c1de32f5f6"
   }
  }
 },
 "nbformat": 4,
 "nbformat_minor": 2
}
