{
 "cells": [
  {
   "cell_type": "code",
   "execution_count": 1,
   "metadata": {},
   "outputs": [],
   "source": [
    "from lib.encoders import TextEncoderPipeline\n",
    "import re"
   ]
  },
  {
   "cell_type": "code",
   "execution_count": 2,
   "metadata": {},
   "outputs": [],
   "source": [
    "encoder = TextEncoderPipeline()"
   ]
  },
  {
   "cell_type": "code",
   "execution_count": 18,
   "metadata": {},
   "outputs": [
    {
     "name": "stdout",
     "output_type": "stream",
     "text": [
      "some/file/path.txt hello world I have spaces I have I have I have\n",
      "[['some', '/', 'file', '/', 'path'], ['.', 'tx', '##t', 'hello', 'world', 'i', 'have', 'spaces', 'i', 'have', 'i', 'have', 'i', 'have']]\n"
     ]
    }
   ],
   "source": [
    "text = \"some/file/path.txt hello world I have spaces I have I have I have\"\n",
    "\n",
    "chunks = [encoder.model.tokenizer.tokenize(text)]\n",
    "chunks.append(chunks[0][5:])\n",
    "chunks[0] = chunks[0][:5]\n",
    "\n",
    "print(text)\n",
    "print(chunks)"
   ]
  },
  {
   "cell_type": "code",
   "execution_count": 19,
   "metadata": {},
   "outputs": [
    {
     "name": "stdout",
     "output_type": "stream",
     "text": [
      "['some/file/path', '.txt hello world I have']\n"
     ]
    }
   ],
   "source": [
    "def reconstruct_text_chunks(original_text, text_chunk_tokens):\n",
    "\n",
    "    reconstructed_texts = []\n",
    "    spaceless_text = original_text.replace(\" \", \"\")\n",
    "    space_idx = [m.start() for m in re.finditer(\" \", original_text)]\n",
    "    \n",
    "    for tokens in text_chunk_tokens:\n",
    "        spaceless_chunk = \"\".join([token.strip(\"#\") for token in tokens])\n",
    "        last_token_index = original_text.find(tokens[-1].strip(\"#\"))\n",
    "        text = original_text[:last_token_index+len(tokens[-1])]\n",
    "        original_text = original_text[last_token_index+len(tokens[-1]):]\n",
    "\n",
    "        reconstructed_texts.append(text)\n",
    "\n",
    "    return reconstructed_texts\n",
    "\n",
    "reconstructed_texts = reconstruct_text_chunks(text, chunks)\n",
    "print(reconstructed_texts)\n"
   ]
  },
  {
   "cell_type": "code",
   "execution_count": 6,
   "metadata": {},
   "outputs": [
    {
     "data": {
      "text/plain": [
       "'some/file/path.txt'"
      ]
     },
     "execution_count": 6,
     "metadata": {},
     "output_type": "execute_result"
    }
   ],
   "source": [
    "encoder.model.tokenizer.convert_tokens_to_string([\"some\", \"##/\", \"##file\", \"##/\", \"##path\", \"##.\", \"##tx\", \"##t\"])"
   ]
  }
 ],
 "metadata": {
  "kernelspec": {
   "display_name": "Python 3.10.4 ('env': venv)",
   "language": "python",
   "name": "python3"
  },
  "language_info": {
   "codemirror_mode": {
    "name": "ipython",
    "version": 3
   },
   "file_extension": ".py",
   "mimetype": "text/x-python",
   "name": "python",
   "nbconvert_exporter": "python",
   "pygments_lexer": "ipython3",
   "version": "3.10.4"
  },
  "orig_nbformat": 4,
  "vscode": {
   "interpreter": {
    "hash": "bd949634739cb2e3553531dc888c165434c8f42131e286f52dc6a7c1de32f5f6"
   }
  }
 },
 "nbformat": 4,
 "nbformat_minor": 2
}
